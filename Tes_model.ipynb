{
 "cells": [
  {
   "cell_type": "code",
   "execution_count": 2,
   "id": "2840c3a1-91c9-4644-b3ea-93a6bc475ead",
   "metadata": {},
   "outputs": [],
   "source": [
    "import joblib\n",
    "import pandas as pd\n",
    "\n",
    "# Memuat model dari file\n",
    "model = joblib.load('prediksi_gempa.joblib')"
   ]
  },
  {
   "cell_type": "code",
   "execution_count": 7,
   "id": "64b83bb0-15ca-4379-87f6-5520145b4ee7",
   "metadata": {},
   "outputs": [
    {
     "name": "stdout",
     "output_type": "stream",
     "text": [
      "Prediksi: [8]\n"
     ]
    }
   ],
   "source": [
    "# Prediksi kategori \n",
    "data_baru = pd.DataFrame({'magnitudo': [25],\n",
    "                          'depth': [10],\n",
    "                          'longitude': [-115972],\n",
    "                          'latitude': [47482],\n",
    "                          'significance': [96]})\n",
    "\n",
    "prediksi = model.predict(data_baru)\n",
    "print(\"Prediksi:\", prediksi)"
   ]
  },
  {
   "cell_type": "code",
   "execution_count": 6,
   "id": "6073920c-5088-42dc-90fe-73f958084317",
   "metadata": {},
   "outputs": [],
   "source": [
    "data = pd.read_csv('file_name',delimiter=';')"
   ]
  },
  {
   "cell_type": "code",
   "execution_count": 6,
   "id": "3de80628-e2c0-4e47-ac6e-e5a1d9106fb8",
   "metadata": {},
   "outputs": [
    {
     "data": {
      "text/plain": [
       "9"
      ]
     },
     "execution_count": 6,
     "metadata": {},
     "output_type": "execute_result"
    }
   ],
   "source": [
    "'''\n",
    "Kelas unik dalam kolom 'data_type':\n",
    "0 = chemical explosion\n",
    "1 = earthquake\n",
    "2 = explosion\n",
    "3 = ice quake\n",
    "4 = mine collapse\n",
    "5 = nuclear explosion\n",
    "6 = other event\n",
    "7 = quarry blast\n",
    "8 = rock burst\n",
    "9 = sonic boom\n",
    "\n",
    "'''\n",
    "\n",
    "9"
   ]
  },
  {
   "cell_type": "code",
   "execution_count": null,
   "id": "668a3b91-6d2d-401e-8eaa-8e32fd1f6ee2",
   "metadata": {},
   "outputs": [],
   "source": []
  }
 ],
 "metadata": {
  "kernelspec": {
   "display_name": "Python 3 (ipykernel)",
   "language": "python",
   "name": "python3"
  },
  "language_info": {
   "codemirror_mode": {
    "name": "ipython",
    "version": 3
   },
   "file_extension": ".py",
   "mimetype": "text/x-python",
   "name": "python",
   "nbconvert_exporter": "python",
   "pygments_lexer": "ipython3",
   "version": "3.10.13"
  }
 },
 "nbformat": 4,
 "nbformat_minor": 5
}
