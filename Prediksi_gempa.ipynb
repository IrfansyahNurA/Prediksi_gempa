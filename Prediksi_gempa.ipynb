{
 "cells": [
  {
   "cell_type": "code",
   "execution_count": 1,
   "id": "4373ca70-2708-4acf-b240-4507eba53482",
   "metadata": {},
   "outputs": [],
   "source": [
    "import pandas as pd\n",
    "from sklearn.model_selection import train_test_split\n",
    "from sklearn.preprocessing import LabelEncoder\n",
    "from sklearn.ensemble import RandomForestClassifier\n",
    "from sklearn.metrics import accuracy_score"
   ]
  },
  {
   "cell_type": "code",
   "execution_count": null,
   "id": "3a932ca6",
   "metadata": {},
   "outputs": [],
   "source": [
    "# Membaca data dari kolom yang ada\n",
    "data = pd.read_csv('file_name',delimiter=';')"
   ]
  },
  {
   "cell_type": "code",
   "execution_count": 2,
   "id": "cf68b3ab-eb82-48c8-a934-aced8fd39045",
   "metadata": {},
   "outputs": [
    {
     "name": "stdout",
     "output_type": "stream",
     "text": [
      "   significance   data_type  magnitudo   longitude   latitude  depth\n",
      "0            96  earthquake         25    -1496692     617302    301\n",
      "1            31  earthquake        141 -1552123333  193176667   6585\n",
      "2            19  earthquake        111 -1228061667      38821    322\n",
      "3            15  earthquake         98 -1188463333  376643333   -584\n",
      "4           134  earthquake        295     -118934      34546  16122\n",
      "5           118  earthquake        277     -118923      34543  16342\n",
      "6            20  earthquake        113      -11904  376326667  -1499\n",
      "7            11  earthquake         83 -1188341667     376615    556\n",
      "8            39  earthquake        159 -1188401667  376623333   -234\n",
      "9            74  earthquake         22 -1220711667     471025   8382\n"
     ]
    }
   ],
   "source": [
    "df = pd.DataFrame(data)\n",
    "\n",
    "# Menampilkan 10 data pertama\n",
    "print(df.head(10))"
   ]
  },
  {
   "cell_type": "code",
   "execution_count": 10,
   "id": "488d43f6-71a4-4316-953f-51f812d60440",
   "metadata": {},
   "outputs": [],
   "source": [
    "le = LabelEncoder()\n",
    "data['data_type'] = le.fit_transform(data['data_type'])"
   ]
  },
  {
   "cell_type": "code",
   "execution_count": 11,
   "id": "d0c46b8a-de10-4509-a194-6677a9b60443",
   "metadata": {},
   "outputs": [],
   "source": [
    "features = ['magnitudo', 'depth', 'longitude', 'latitude', 'significance']"
   ]
  },
  {
   "cell_type": "code",
   "execution_count": 12,
   "id": "b1df49d4-4d8d-4066-9a53-73e56358411b",
   "metadata": {},
   "outputs": [],
   "source": [
    "X = data[features]\n",
    "y = data['data']"
   ]
  },
  {
   "cell_type": "code",
   "execution_count": 19,
   "id": "b94c7ff9-6e5f-46d3-ad83-859138434720",
   "metadata": {},
   "outputs": [
    {
     "name": "stdout",
     "output_type": "stream",
     "text": [
      "Akurasi Model: 0.994499882517107\n"
     ]
    }
   ],
   "source": [
    "X_train, X_test, y_train, y_test = train_test_split(X, y, test_size=0.2, random_state=42)\n",
    "\n",
    "# Inisialisasi model Random Forest\n",
    "model = RandomForestClassifier()\n",
    "\n",
    "# Latih model\n",
    "model.fit(X_train, y_train)\n",
    "\n",
    "# Lakukan prediksi\n",
    "y_pred = model.predict(X_test)\n",
    "\n",
    "# Evaluasi model\n",
    "accuracy = accuracy_score(y_test, y_pred)\n",
    "print(\"Akurasi Model:\", accuracy)\n"
   ]
  },
  {
   "cell_type": "code",
   "execution_count": 21,
   "id": "af9449cc-6db2-4801-887f-5213279b78ce",
   "metadata": {},
   "outputs": [
    {
     "data": {
      "text/plain": [
       "['prediksi_gempa.joblib']"
      ]
     },
     "execution_count": 21,
     "metadata": {},
     "output_type": "execute_result"
    }
   ],
   "source": [
    "import joblib\n",
    "\n",
    "# Simpan model ke dalam file\n",
    "joblib.dump(model, 'prediksi_gempa.joblib')"
   ]
  },
  {
   "cell_type": "code",
   "execution_count": 20,
   "id": "97f73ed0-875d-4f8b-9d37-d1bf44c98992",
   "metadata": {},
   "outputs": [
    {
     "name": "stdout",
     "output_type": "stream",
     "text": [
      "Prediksi: [3]\n"
     ]
    }
   ],
   "source": [
    "# Prediksi kategori \n",
    "data_baru = pd.DataFrame({'magnitudo': [15],\n",
    "                          'depth': [32],\n",
    "                          'longitude': [-1476787],\n",
    "                          'latitude': [612487],\n",
    "                          'significance': [35]})\n",
    "\n",
    "prediksi = model.predict(data_baru)\n",
    "print(\"Prediksi:\", prediksi)"
   ]
  },
  {
   "cell_type": "code",
   "execution_count": 22,
   "id": "456cd763-339b-4535-aa36-f4aba765e9a3",
   "metadata": {},
   "outputs": [
    {
     "name": "stdout",
     "output_type": "stream",
     "text": [
      "Kelas unik dalam kolom 'data_type':\n",
      "0\n",
      "1\n",
      "2\n",
      "3\n",
      "4\n",
      "5\n",
      "6\n",
      "7\n",
      "8\n",
      "9\n"
     ]
    }
   ],
   "source": [
    "kelas_unik = data['data_type'].unique()\n",
    "kelas_unik.sort()\n",
    "print(\"Kelas unik dalam kolom 'data_type':\")\n",
    "for kelas in kelas_unik:\n",
    "    print(kelas)"
   ]
  },
  {
   "cell_type": "code",
   "execution_count": 23,
   "id": "e23f54cc-2b9f-49c9-bd79-59f8291d4658",
   "metadata": {},
   "outputs": [
    {
     "name": "stdout",
     "output_type": "stream",
     "text": [
      "Kelas unik dalam kolom 'data_type':\n",
      "chemical explosion\n",
      "earthquake\n",
      "explosion\n",
      "ice quake\n",
      "mine collapse\n",
      "nuclear explosion\n",
      "other event\n",
      "quarry blast\n",
      "rock burst\n",
      "sonic boom\n"
     ]
    }
   ],
   "source": [
    "kelas_unik = le.inverse_transform(data['data_type'].unique())\n",
    "kelas_unik.sort()\n",
    "print(\"Kelas unik dalam kolom 'data_type':\")\n",
    "for kelas in kelas_unik:\n",
    "    print(kelas)"
   ]
  },
  {
   "cell_type": "code",
   "execution_count": null,
   "id": "0a39f7b2-814e-4224-8283-fd7fece4bfef",
   "metadata": {},
   "outputs": [],
   "source": []
  }
 ],
 "metadata": {
  "kernelspec": {
   "display_name": "Python 3 (ipykernel)",
   "language": "python",
   "name": "python3"
  },
  "language_info": {
   "codemirror_mode": {
    "name": "ipython",
    "version": 3
   },
   "file_extension": ".py",
   "mimetype": "text/x-python",
   "name": "python",
   "nbconvert_exporter": "python",
   "pygments_lexer": "ipython3",
   "version": "3.10.13"
  }
 },
 "nbformat": 4,
 "nbformat_minor": 5
}
